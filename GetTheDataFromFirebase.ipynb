{
  "nbformat": 4,
  "nbformat_minor": 0,
  "metadata": {
    "colab": {
      "provenance": []
    },
    "kernelspec": {
      "name": "python3",
      "display_name": "Python 3"
    },
    "language_info": {
      "name": "python"
    }
  },
  "cells": [
    {
      "cell_type": "code",
      "execution_count": null,
      "metadata": {
        "colab": {
          "base_uri": "https://localhost:8080/"
        },
        "id": "ro0cTTj-5KLX",
        "outputId": "d4a64824-e201-453e-fc39-d8e9bec46d9c"
      },
      "outputs": [
        {
          "output_type": "stream",
          "name": "stdout",
          "text": [
            "Requirement already satisfied: firebase_admin in /usr/local/lib/python3.10/dist-packages (5.3.0)\n",
            "Requirement already satisfied: cachecontrol>=0.12.6 in /usr/local/lib/python3.10/dist-packages (from firebase_admin) (0.13.1)\n",
            "Requirement already satisfied: google-api-python-client>=1.7.8 in /usr/local/lib/python3.10/dist-packages (from firebase_admin) (2.84.0)\n",
            "Requirement already satisfied: google-cloud-storage>=1.37.1 in /usr/local/lib/python3.10/dist-packages (from firebase_admin) (2.8.0)\n",
            "Requirement already satisfied: google-api-core[grpc]<3.0.0dev,>=1.22.1 in /usr/local/lib/python3.10/dist-packages (from firebase_admin) (2.11.1)\n",
            "Requirement already satisfied: google-cloud-firestore>=2.1.0 in /usr/local/lib/python3.10/dist-packages (from firebase_admin) (2.11.1)\n",
            "Requirement already satisfied: requests>=2.16.0 in /usr/local/lib/python3.10/dist-packages (from cachecontrol>=0.12.6->firebase_admin) (2.31.0)\n",
            "Requirement already satisfied: msgpack>=0.5.2 in /usr/local/lib/python3.10/dist-packages (from cachecontrol>=0.12.6->firebase_admin) (1.0.7)\n",
            "Requirement already satisfied: googleapis-common-protos<2.0.dev0,>=1.56.2 in /usr/local/lib/python3.10/dist-packages (from google-api-core[grpc]<3.0.0dev,>=1.22.1->firebase_admin) (1.61.0)\n",
            "Requirement already satisfied: protobuf!=3.20.0,!=3.20.1,!=4.21.0,!=4.21.1,!=4.21.2,!=4.21.3,!=4.21.4,!=4.21.5,<5.0.0.dev0,>=3.19.5 in /usr/local/lib/python3.10/dist-packages (from google-api-core[grpc]<3.0.0dev,>=1.22.1->firebase_admin) (3.20.3)\n",
            "Requirement already satisfied: google-auth<3.0.dev0,>=2.14.1 in /usr/local/lib/python3.10/dist-packages (from google-api-core[grpc]<3.0.0dev,>=1.22.1->firebase_admin) (2.17.3)\n",
            "Requirement already satisfied: grpcio<2.0dev,>=1.33.2 in /usr/local/lib/python3.10/dist-packages (from google-api-core[grpc]<3.0.0dev,>=1.22.1->firebase_admin) (1.59.0)\n",
            "Requirement already satisfied: grpcio-status<2.0.dev0,>=1.33.2 in /usr/local/lib/python3.10/dist-packages (from google-api-core[grpc]<3.0.0dev,>=1.22.1->firebase_admin) (1.48.2)\n",
            "Requirement already satisfied: httplib2<1dev,>=0.15.0 in /usr/local/lib/python3.10/dist-packages (from google-api-python-client>=1.7.8->firebase_admin) (0.22.0)\n",
            "Requirement already satisfied: google-auth-httplib2>=0.1.0 in /usr/local/lib/python3.10/dist-packages (from google-api-python-client>=1.7.8->firebase_admin) (0.1.1)\n",
            "Requirement already satisfied: uritemplate<5,>=3.0.1 in /usr/local/lib/python3.10/dist-packages (from google-api-python-client>=1.7.8->firebase_admin) (4.1.1)\n",
            "Requirement already satisfied: google-cloud-core<3.0.0dev,>=1.4.1 in /usr/local/lib/python3.10/dist-packages (from google-cloud-firestore>=2.1.0->firebase_admin) (2.3.3)\n",
            "Requirement already satisfied: proto-plus<2.0.0dev,>=1.22.0 in /usr/local/lib/python3.10/dist-packages (from google-cloud-firestore>=2.1.0->firebase_admin) (1.22.3)\n",
            "Requirement already satisfied: google-resumable-media>=2.3.2 in /usr/local/lib/python3.10/dist-packages (from google-cloud-storage>=1.37.1->firebase_admin) (2.6.0)\n",
            "Requirement already satisfied: cachetools<6.0,>=2.0.0 in /usr/local/lib/python3.10/dist-packages (from google-auth<3.0.dev0,>=2.14.1->google-api-core[grpc]<3.0.0dev,>=1.22.1->firebase_admin) (5.3.2)\n",
            "Requirement already satisfied: pyasn1-modules>=0.2.1 in /usr/local/lib/python3.10/dist-packages (from google-auth<3.0.dev0,>=2.14.1->google-api-core[grpc]<3.0.0dev,>=1.22.1->firebase_admin) (0.3.0)\n",
            "Requirement already satisfied: six>=1.9.0 in /usr/local/lib/python3.10/dist-packages (from google-auth<3.0.dev0,>=2.14.1->google-api-core[grpc]<3.0.0dev,>=1.22.1->firebase_admin) (1.16.0)\n",
            "Requirement already satisfied: rsa<5,>=3.1.4 in /usr/local/lib/python3.10/dist-packages (from google-auth<3.0.dev0,>=2.14.1->google-api-core[grpc]<3.0.0dev,>=1.22.1->firebase_admin) (4.9)\n",
            "Requirement already satisfied: google-crc32c<2.0dev,>=1.0 in /usr/local/lib/python3.10/dist-packages (from google-resumable-media>=2.3.2->google-cloud-storage>=1.37.1->firebase_admin) (1.5.0)\n",
            "Requirement already satisfied: pyparsing!=3.0.0,!=3.0.1,!=3.0.2,!=3.0.3,<4,>=2.4.2 in /usr/local/lib/python3.10/dist-packages (from httplib2<1dev,>=0.15.0->google-api-python-client>=1.7.8->firebase_admin) (3.1.1)\n",
            "Requirement already satisfied: charset-normalizer<4,>=2 in /usr/local/lib/python3.10/dist-packages (from requests>=2.16.0->cachecontrol>=0.12.6->firebase_admin) (3.3.1)\n",
            "Requirement already satisfied: idna<4,>=2.5 in /usr/local/lib/python3.10/dist-packages (from requests>=2.16.0->cachecontrol>=0.12.6->firebase_admin) (3.4)\n",
            "Requirement already satisfied: urllib3<3,>=1.21.1 in /usr/local/lib/python3.10/dist-packages (from requests>=2.16.0->cachecontrol>=0.12.6->firebase_admin) (2.0.7)\n",
            "Requirement already satisfied: certifi>=2017.4.17 in /usr/local/lib/python3.10/dist-packages (from requests>=2.16.0->cachecontrol>=0.12.6->firebase_admin) (2023.7.22)\n",
            "Requirement already satisfied: pyasn1<0.6.0,>=0.4.6 in /usr/local/lib/python3.10/dist-packages (from pyasn1-modules>=0.2.1->google-auth<3.0.dev0,>=2.14.1->google-api-core[grpc]<3.0.0dev,>=1.22.1->firebase_admin) (0.5.0)\n",
            "Requirement already satisfied: requests in /usr/local/lib/python3.10/dist-packages (2.31.0)\n",
            "Requirement already satisfied: charset-normalizer<4,>=2 in /usr/local/lib/python3.10/dist-packages (from requests) (3.3.1)\n",
            "Requirement already satisfied: idna<4,>=2.5 in /usr/local/lib/python3.10/dist-packages (from requests) (3.4)\n",
            "Requirement already satisfied: urllib3<3,>=1.21.1 in /usr/local/lib/python3.10/dist-packages (from requests) (2.0.7)\n",
            "Requirement already satisfied: certifi>=2017.4.17 in /usr/local/lib/python3.10/dist-packages (from requests) (2023.7.22)\n",
            "Requirement already satisfied: scikit-fuzzy in /usr/local/lib/python3.10/dist-packages (0.4.2)\n",
            "Requirement already satisfied: numpy>=1.6.0 in /usr/local/lib/python3.10/dist-packages (from scikit-fuzzy) (1.23.5)\n",
            "Requirement already satisfied: scipy>=0.9.0 in /usr/local/lib/python3.10/dist-packages (from scikit-fuzzy) (1.11.3)\n",
            "Requirement already satisfied: networkx>=1.9.0 in /usr/local/lib/python3.10/dist-packages (from scikit-fuzzy) (3.2)\n"
          ]
        }
      ],
      "source": [
        "!pip install firebase_admin\n",
        "!pip install requests\n",
        "!pip install -U scikit-fuzzy # http://pythonhosted.org/scikit-fuzzy/auto_examples/index.html"
      ]
    },
    {
      "cell_type": "code",
      "source": [
        "import firebase_admin\n",
        "from firebase_admin import credentials\n",
        "from firebase_admin import db"
      ],
      "metadata": {
        "id": "dlc2JyxS6GdM"
      },
      "execution_count": null,
      "outputs": []
    },
    {
      "cell_type": "code",
      "source": [
        "cred = credentials.Certificate('/tmp/iothiya-firebase-adminsdk-neqv5-341ced2a56.json')"
      ],
      "metadata": {
        "id": "weZVf02b6fyX"
      },
      "execution_count": null,
      "outputs": []
    },
    {
      "cell_type": "code",
      "source": [
        "firebase_admin.initialize_app(cred, {\n",
        "    'databaseURL': 'https://iothiya-default-rtdb.asia-southeast1.firebasedatabase.app/'\n",
        "})"
      ],
      "metadata": {
        "id": "ucSIRRbrh_NJ",
        "colab": {
          "base_uri": "https://localhost:8080/"
        },
        "outputId": "911eb510-5d47-47c5-ff16-6dc34c786289"
      },
      "execution_count": null,
      "outputs": [
        {
          "output_type": "execute_result",
          "data": {
            "text/plain": [
              "<firebase_admin.App at 0x783ff50cb4c0>"
            ]
          },
          "metadata": {},
          "execution_count": 4
        }
      ]
    },
    {
      "cell_type": "code",
      "source": [
        "import numpy as np\n",
        "import skfuzzy as fuzz\n",
        "from skfuzzy import control as ctrl\n",
        "\n",
        "%matplotlib inline"
      ],
      "metadata": {
        "id": "uz69rwm6afAC"
      },
      "execution_count": null,
      "outputs": []
    },
    {
      "cell_type": "code",
      "source": [
        "# Antecedents\n",
        "hum= ctrl.Antecedent(np.arange(0, 100), 'hum')\n",
        "temp = ctrl.Antecedent(np.arange(0, 40), 'temp')\n",
        "\n",
        "# Consequents\n",
        "motor_level = ctrl.Consequent(np.arange(0, 12), 'motor_level')"
      ],
      "metadata": {
        "id": "2nSOonfea_Ps"
      },
      "execution_count": null,
      "outputs": []
    },
    {
      "cell_type": "code",
      "source": [
        "# Humidity memberships\n",
        "hum['low'] = fuzz.trapmf(hum.universe, [0, 0, 40, 50])\n",
        "hum['normal'] = fuzz.trapmf(hum.universe, [40, 50, 60, 70])\n",
        "hum['high'] = fuzz.trapmf(hum.universe, [60, 70, 100, 100])"
      ],
      "metadata": {
        "id": "8xV6aBm4dT9k"
      },
      "execution_count": null,
      "outputs": []
    },
    {
      "cell_type": "code",
      "source": [
        "# Temperature memberships\n",
        "temp['low'] = fuzz.trapmf(temp.universe, [0, 0, 17, 18])\n",
        "temp['normal'] = fuzz.trapmf(temp.universe, [17, 18, 22, 25])\n",
        "temp['high'] = fuzz.trapmf(temp.universe, [22, 25, 26, 30])\n",
        "temp['very-high'] = fuzz.trapmf(temp.universe, [26, 30, 40, 40])"
      ],
      "metadata": {
        "id": "knQnSO5bd3j0"
      },
      "execution_count": null,
      "outputs": []
    },
    {
      "cell_type": "code",
      "source": [
        "# Motor Level memberships\n",
        "motor_level['off'] = fuzz.trapmf(motor_level.universe, [0, 0, 2, 3])\n",
        "motor_level['weak'] = fuzz.trapmf(motor_level.universe, [2, 3, 5, 6])\n",
        "motor_level['normal'] = fuzz.trapmf(motor_level.universe, [5, 6, 8, 9])\n",
        "motor_level['strong'] = fuzz.trapmf(motor_level.universe, [8, 9, 11, 12])"
      ],
      "metadata": {
        "id": "y4ebkRDzefdm"
      },
      "execution_count": null,
      "outputs": []
    },
    {
      "cell_type": "code",
      "source": [
        "# Rule system\n",
        "rule1 = ctrl.Rule((hum['low'] & temp['low']), motor_level['off'])\n"
      ],
      "metadata": {
        "id": "8bDkYkIPfC8u"
      },
      "execution_count": null,
      "outputs": []
    },
    {
      "cell_type": "code",
      "source": [
        "rule2 = ctrl.Rule((hum['normal'] & temp['low']), motor_level['off'])\n"
      ],
      "metadata": {
        "id": "cHqRWTFIurCr"
      },
      "execution_count": null,
      "outputs": []
    },
    {
      "cell_type": "code",
      "source": [
        "rule3 = ctrl.Rule((hum['high'] & temp['low']), motor_level['weak'])\n"
      ],
      "metadata": {
        "id": "PTJOC8lRuxCX"
      },
      "execution_count": null,
      "outputs": []
    },
    {
      "cell_type": "code",
      "source": [
        "rule4 = ctrl.Rule((hum['low'] & temp['normal']), motor_level['off'])\n"
      ],
      "metadata": {
        "id": "_VYaARmluyq3"
      },
      "execution_count": null,
      "outputs": []
    },
    {
      "cell_type": "code",
      "source": [
        "rule5 = ctrl.Rule((hum['normal'] & temp['normal']), motor_level['weak'])\n"
      ],
      "metadata": {
        "id": "efthF_F4u1sJ"
      },
      "execution_count": null,
      "outputs": []
    },
    {
      "cell_type": "code",
      "source": [
        "rule6 = ctrl.Rule((hum['high'] & temp['normal']), motor_level['weak'])\n"
      ],
      "metadata": {
        "id": "MnGf4sMgu3D6"
      },
      "execution_count": null,
      "outputs": []
    },
    {
      "cell_type": "code",
      "source": [
        "rule7 = ctrl.Rule((hum['low'] & temp['high']), motor_level['normal'])\n"
      ],
      "metadata": {
        "id": "1gaufLqru4l-"
      },
      "execution_count": null,
      "outputs": []
    },
    {
      "cell_type": "code",
      "source": [
        "rule8 = ctrl.Rule((hum['normal'] & temp['high']), motor_level['normal'])\n"
      ],
      "metadata": {
        "id": "IOS92kDlu5p9"
      },
      "execution_count": null,
      "outputs": []
    },
    {
      "cell_type": "code",
      "source": [
        "rule9 = ctrl.Rule((hum['high'] & temp['high']), motor_level['strong'])\n"
      ],
      "metadata": {
        "id": "ellIJ3ahu61J"
      },
      "execution_count": null,
      "outputs": []
    },
    {
      "cell_type": "code",
      "source": [
        "rule10 = ctrl.Rule((hum['low'] & temp['very-high']), motor_level['normal'])\n"
      ],
      "metadata": {
        "id": "Kjfu3yeuu78n"
      },
      "execution_count": null,
      "outputs": []
    },
    {
      "cell_type": "code",
      "source": [
        "rule11 = ctrl.Rule((hum['normal'] & temp['very-high']), motor_level['strong'])\n"
      ],
      "metadata": {
        "id": "4wuHtGNou-0h"
      },
      "execution_count": null,
      "outputs": []
    },
    {
      "cell_type": "code",
      "source": [
        "rule12 = ctrl.Rule((hum['high'] & temp['very-high']), motor_level['strong'])"
      ],
      "metadata": {
        "id": "kDdMtUIWu_2d"
      },
      "execution_count": null,
      "outputs": []
    },
    {
      "cell_type": "code",
      "source": [
        "motor_level_ctrl = ctrl.ControlSystem([rule1, rule2, rule3, rule4,\n",
        "                                       rule5, rule6, rule7, rule8,\n",
        "                                       rule9, rule10, rule11, rule12])\n",
        "motor_level_output = ctrl.ControlSystemSimulation(motor_level_ctrl)"
      ],
      "metadata": {
        "id": "cFd2PLFXhzgy"
      },
      "execution_count": null,
      "outputs": []
    },
    {
      "cell_type": "code",
      "source": [
        "trigger = True\n",
        "while(trigger):\n",
        "  try:\n",
        "    hum_value = db.reference('/data-sensor/hum').get()\n",
        "    temp_value = db.reference('/data-sensor/temp').get()\n",
        "    motor_level_value = db.reference('/data-actuator')\n",
        "\n",
        "    motor_level_output.input['temp'] = float(temp_value)\n",
        "    motor_level_output.input['hum'] = float(hum_value)\n",
        "\n",
        "    motor_level_output.compute()\n",
        "\n",
        "    print(motor_level_output.output['motor_level'])\n",
        "    if (motor_level_output.output['motor_level'] < 3):\n",
        "        level = 0\n",
        "    elif (motor_level_output.output['motor_level'] > 2 and motor_level_output.output['motor_level'] < 6):\n",
        "        level = 1\n",
        "    elif motor_level_output.output['motor_level'] > 5 and motor_level_output.output['motor_level'] < 9:\n",
        "        level = 2\n",
        "    elif motor_level_output.output['motor_level'] > 8:\n",
        "        level = 3\n",
        "\n",
        "    try:\n",
        "        motor_level_value.set({\n",
        "          'level':level\n",
        "        })\n",
        "    except NameError:\n",
        "        print(NameError)\n",
        "    else:\n",
        "        print(\"Success\")\n",
        "  except KeyboardInterrupt:\n",
        "    level = 0\n",
        "    motor_level_value.set({\n",
        "          'level':level\n",
        "        })\n",
        "    print(\"Interrupt!\")\n",
        "    trigger = False"
      ],
      "metadata": {
        "id": "4rn_w68ViJ--",
        "colab": {
          "base_uri": "https://localhost:8080/"
        },
        "outputId": "046723ea-caca-4426-bf88-9569ef5f34e6"
      },
      "execution_count": null,
      "outputs": [
        {
          "output_type": "stream",
          "name": "stdout",
          "text": [
            "9.053057313371406\n",
            "Success\n",
            "9.053057313371406\n",
            "Success\n",
            "9.053057313371406\n",
            "Success\n",
            "9.053057313371406\n",
            "Success\n",
            "9.053057313371406\n",
            "Success\n",
            "9.053057313371406\n",
            "Success\n",
            "9.053057313371406\n",
            "Success\n",
            "9.053057313371406\n",
            "Success\n",
            "9.053057313371406\n",
            "Success\n",
            "9.053057313371406\n",
            "Success\n",
            "9.053057313371406\n",
            "Success\n",
            "9.053057313371406\n",
            "Success\n",
            "9.053057313371406\n",
            "Success\n",
            "9.053057313371406\n",
            "Success\n",
            "9.053057313371406\n",
            "Success\n",
            "9.053057313371406\n",
            "Success\n",
            "9.053057313371406\n",
            "Success\n",
            "9.053057313371406\n",
            "Success\n",
            "9.053057313371406\n",
            "Success\n",
            "9.053057313371406\n",
            "Success\n",
            "9.053057313371406\n",
            "Success\n",
            "9.053057313371406\n",
            "Success\n",
            "9.053057313371406\n",
            "Success\n",
            "9.053057313371406\n",
            "Success\n",
            "9.053057313371406\n",
            "Success\n",
            "9.053057313371406\n",
            "Success\n",
            "9.053057313371406\n",
            "Success\n",
            "9.053057313371406\n",
            "Success\n",
            "9.053057313371406\n",
            "Success\n",
            "9.053057313371406\n",
            "Success\n",
            "9.053057313371406\n",
            "Success\n",
            "9.053057313371406\n",
            "Success\n",
            "9.053057313371406\n",
            "Success\n",
            "9.053057313371406\n",
            "Success\n",
            "9.053057313371406\n",
            "Success\n",
            "9.053057313371406\n",
            "Success\n",
            "9.053057313371406\n",
            "Success\n",
            "9.053057313371406\n",
            "Success\n",
            "9.053057313371406\n",
            "Success\n",
            "9.053057313371406\n",
            "Success\n",
            "9.053057313371406\n",
            "Success\n",
            "9.053057313371406\n",
            "Success\n",
            "9.053057313371406\n",
            "Success\n",
            "9.053057313371406\n",
            "Success\n",
            "9.053057313371406\n",
            "Success\n",
            "9.053057313371406\n",
            "Success\n",
            "9.053057313371406\n",
            "Success\n",
            "9.053057313371406\n",
            "Success\n",
            "9.053057313371406\n",
            "Success\n",
            "9.053057313371406\n",
            "Success\n",
            "8.965110295545458\n",
            "Success\n",
            "8.965110295545458\n",
            "Success\n",
            "8.965110295545458\n",
            "Success\n",
            "8.946013974908686\n",
            "Success\n",
            "9.251013941698353\n",
            "Success\n",
            "9.251013941698353\n",
            "Success\n",
            "9.251013941698353\n",
            "Success\n",
            "8.965110295545458\n",
            "Success\n",
            "8.965110295545458\n",
            "Success\n",
            "8.965110295545458\n",
            "Success\n",
            "8.965110295545458\n",
            "Success\n",
            "8.965110295545458\n",
            "Success\n",
            "8.965110295545458\n",
            "Success\n",
            "8.965110295545458\n",
            "Success\n",
            "8.965110295545458\n",
            "Success\n",
            "8.965110295545458\n",
            "Success\n",
            "8.965110295545458\n",
            "Success\n",
            "8.965110295545458\n",
            "Success\n",
            "8.965110295545458\n",
            "Success\n",
            "8.965110295545458\n",
            "Success\n",
            "8.965110295545458\n",
            "Success\n",
            "8.965110295545458\n",
            "Success\n",
            "8.965110295545458\n",
            "Success\n",
            "8.965110295545458\n",
            "Success\n",
            "8.965110295545458\n",
            "Success\n",
            "8.965110295545458\n",
            "Success\n",
            "8.965110295545458\n",
            "Success\n",
            "8.965110295545458\n",
            "Success\n",
            "8.965110295545458\n",
            "Success\n",
            "8.965110295545458\n",
            "Success\n",
            "8.965110295545458\n",
            "Success\n",
            "8.965110295545458\n",
            "Success\n",
            "8.965110295545458\n",
            "Success\n",
            "8.965110295545458\n",
            "Success\n",
            "8.965110295545458\n",
            "Success\n",
            "8.965110295545458\n",
            "Success\n",
            "8.965110295545458\n",
            "Success\n",
            "8.965110295545458\n",
            "Success\n",
            "8.965110295545458\n",
            "Success\n",
            "8.965110295545458\n",
            "Success\n",
            "8.965110295545458\n",
            "Success\n",
            "8.965110295545458\n",
            "Success\n",
            "8.965110295545458\n",
            "Success\n",
            "8.965110295545458\n",
            "Success\n",
            "8.965110295545458\n",
            "Success\n",
            "8.965110295545458\n",
            "Success\n",
            "8.965110295545458\n",
            "Success\n",
            "8.965110295545458\n",
            "Success\n",
            "8.965110295545458\n",
            "Success\n",
            "8.965110295545458\n",
            "Success\n",
            "8.965110295545458\n",
            "Success\n",
            "8.965110295545458\n",
            "Success\n",
            "8.965110295545458\n",
            "Success\n",
            "8.965110295545458\n",
            "Success\n",
            "8.965110295545458\n",
            "Success\n",
            "8.965110295545458\n",
            "Success\n",
            "8.965110295545458\n",
            "Success\n",
            "8.983454987834548\n",
            "Success\n",
            "8.983454987834548\n",
            "Success\n",
            "8.983454987834548\n",
            "Success\n",
            "8.965110295545458\n",
            "Success\n",
            "8.965110295545458\n",
            "Success\n",
            "8.965110295545458\n",
            "Success\n",
            "8.965110295545458\n",
            "Success\n",
            "8.965110295545458\n",
            "Success\n",
            "8.965110295545458\n",
            "Success\n",
            "8.965110295545458\n",
            "Success\n",
            "8.965110295545458\n",
            "Success\n",
            "8.965110295545458\n",
            "Success\n",
            "8.965110295545458\n",
            "Success\n",
            "8.965110295545458\n",
            "Success\n",
            "8.965110295545458\n",
            "Success\n",
            "8.965110295545458\n",
            "Success\n",
            "8.965110295545458\n",
            "Success\n",
            "8.965110295545458\n",
            "Success\n",
            "8.965110295545458\n",
            "Success\n",
            "8.965110295545458\n",
            "Success\n",
            "8.965110295545458\n",
            "Success\n",
            "8.965110295545458\n",
            "Success\n",
            "8.965110295545458\n",
            "Success\n",
            "8.965110295545458\n",
            "Success\n",
            "8.965110295545458\n",
            "Success\n",
            "8.965110295545458\n",
            "Success\n",
            "8.965110295545458\n",
            "Success\n",
            "8.965110295545458\n",
            "Success\n",
            "8.965110295545458\n",
            "Interrupt!\n"
          ]
        }
      ]
    }
  ]
}